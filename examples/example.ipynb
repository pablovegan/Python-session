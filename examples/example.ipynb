{
 "cells": [
  {
   "attachments": {},
   "cell_type": "markdown",
   "metadata": {},
   "source": [
    "# Using `my_library`"
   ]
  },
  {
   "attachments": {},
   "cell_type": "markdown",
   "metadata": {},
   "source": [
    "### Importing"
   ]
  },
  {
   "attachments": {},
   "cell_type": "markdown",
   "metadata": {},
   "source": [
    "If we try to import `my_library` from the examples folder it fails because Python cannot find it inside `examples`."
   ]
  },
  {
   "cell_type": "code",
   "execution_count": 1,
   "metadata": {},
   "outputs": [
    {
     "ename": "ModuleNotFoundError",
     "evalue": "No module named 'my_library'",
     "output_type": "error",
     "traceback": [
      "\u001b[0;31m---------------------------------------------------------------------------\u001b[0m",
      "\u001b[0;31mModuleNotFoundError\u001b[0m                       Traceback (most recent call last)",
      "\u001b[1;32m/Users/macvp/Documents/Python Proyectos/Python-tips-tools-Benasque/examples/example.ipynb Cell 4\u001b[0m in \u001b[0;36m<cell line: 1>\u001b[0;34m()\u001b[0m\n\u001b[0;32m----> <a href='vscode-notebook-cell:/Users/macvp/Documents/Python%20Proyectos/Python-tips-tools-Benasque/examples/example.ipynb#W3sZmlsZQ%3D%3D?line=0'>1</a>\u001b[0m \u001b[39mimport\u001b[39;00m \u001b[39mmy_library\u001b[39;00m\n",
      "\u001b[0;31mModuleNotFoundError\u001b[0m: No module named 'my_library'"
     ]
    }
   ],
   "source": [
    "import my_library"
   ]
  },
  {
   "attachments": {},
   "cell_type": "markdown",
   "metadata": {},
   "source": [
    "We need to tell Python to search in the parent folder. To do it we just add '..' to the current path."
   ]
  },
  {
   "cell_type": "code",
   "execution_count": null,
   "metadata": {},
   "outputs": [],
   "source": [
    "from sys import path\n",
    "from os.path import abspath\n",
    "\n",
    "# Tell python to search for the files and modules starting from the working directory\n",
    "module_path = abspath('..')\n",
    "if module_path not in path:\n",
    "    path.append(module_path)"
   ]
  },
  {
   "attachments": {},
   "cell_type": "markdown",
   "metadata": {},
   "source": [
    "Now it works:"
   ]
  },
  {
   "cell_type": "code",
   "execution_count": null,
   "metadata": {},
   "outputs": [],
   "source": [
    "# import my_library\n",
    "from my_library import Vector2D"
   ]
  },
  {
   "attachments": {},
   "cell_type": "markdown",
   "metadata": {},
   "source": [
    "### Methods"
   ]
  },
  {
   "attachments": {},
   "cell_type": "markdown",
   "metadata": {},
   "source": [
    "We can sum the vectors and print the result. Remember that printing calls the `__str__` method inside the vector class."
   ]
  },
  {
   "cell_type": "code",
   "execution_count": null,
   "metadata": {},
   "outputs": [
    {
     "name": "stdout",
     "output_type": "stream",
     "text": [
      "vector_1 + vector_2 = (4, 6)\n"
     ]
    }
   ],
   "source": [
    "vector_1 = Vector2D(1,2)\n",
    "vector_2 = Vector2D(3,4)\n",
    "\n",
    "print(f\"vector_1 + vector_2 = {vector_1 + vector_2}\")"
   ]
  },
  {
   "attachments": {},
   "cell_type": "markdown",
   "metadata": {},
   "source": [
    "We can also multiply vectors with vectors and vectors with constants"
   ]
  },
  {
   "cell_type": "code",
   "execution_count": null,
   "metadata": {},
   "outputs": [
    {
     "name": "stdout",
     "output_type": "stream",
     "text": [
      "vector_1 * vector_2 = 11\n"
     ]
    }
   ],
   "source": [
    "vector_1 = Vector2D(1,2)\n",
    "vector_2 = Vector2D(3,4)\n",
    "\n",
    "print(f\"vector_1 * vector_2 = {vector_1 * vector_2}\")"
   ]
  },
  {
   "attachments": {},
   "cell_type": "markdown",
   "metadata": {},
   "source": [
    "We can also multiply a vector by a constant (in this order):"
   ]
  },
  {
   "cell_type": "code",
   "execution_count": null,
   "metadata": {},
   "outputs": [
    {
     "name": "stdout",
     "output_type": "stream",
     "text": [
      "vector * constant = (3, 6)\n"
     ]
    }
   ],
   "source": [
    "vector = Vector2D(1,2)\n",
    "constant = 3\n",
    "\n",
    "print(f\"vector * constant = {vector * constant}\")"
   ]
  },
  {
   "attachments": {},
   "cell_type": "markdown",
   "metadata": {},
   "source": [
    "If we multiply a constant times a vector we get an error because we didn't define a `__rmul__` method."
   ]
  },
  {
   "cell_type": "code",
   "execution_count": null,
   "metadata": {},
   "outputs": [
    {
     "ename": "TypeError",
     "evalue": "unsupported operand type(s) for *: 'int' and 'Vector2D'",
     "output_type": "error",
     "traceback": [
      "\u001b[0;31m---------------------------------------------------------------------------\u001b[0m",
      "\u001b[0;31mTypeError\u001b[0m                                 Traceback (most recent call last)",
      "Cell \u001b[0;32mIn[14], line 1\u001b[0m\n\u001b[0;32m----> 1\u001b[0m constant \u001b[39m*\u001b[39;49m vector\n",
      "\u001b[0;31mTypeError\u001b[0m: unsupported operand type(s) for *: 'int' and 'Vector2D'"
     ]
    }
   ],
   "source": [
    "constant * vector"
   ]
  },
  {
   "attachments": {},
   "cell_type": "markdown",
   "metadata": {},
   "source": [
    "### Exceptions"
   ]
  },
  {
   "attachments": {},
   "cell_type": "markdown",
   "metadata": {},
   "source": [
    "If we create a vector with a norm larger than `MAX_NORM` our custom `NormError` exception will raise"
   ]
  },
  {
   "cell_type": "code",
   "execution_count": null,
   "metadata": {},
   "outputs": [
    {
     "ename": "NormError",
     "evalue": "Norm = 223.60679774997897 but it cannot be greater than 100.",
     "output_type": "error",
     "traceback": [
      "\u001b[0;31m---------------------------------------------------------------------------\u001b[0m",
      "\u001b[0;31mNormError\u001b[0m                                 Traceback (most recent call last)",
      "Cell \u001b[0;32mIn[5], line 1\u001b[0m\n\u001b[0;32m----> 1\u001b[0m vector \u001b[39m=\u001b[39m Vector2D(\u001b[39m100\u001b[39;49m, \u001b[39m200\u001b[39;49m)\n",
      "File \u001b[0;32m~/Desktop/Python session/my_library/vector.py:40\u001b[0m, in \u001b[0;36mVector2D.__init__\u001b[0;34m(self, x, y)\u001b[0m\n\u001b[1;32m     37\u001b[0m \u001b[39mself\u001b[39m\u001b[39m.\u001b[39my \u001b[39m=\u001b[39m y\n\u001b[1;32m     39\u001b[0m \u001b[39mif\u001b[39;00m \u001b[39mself\u001b[39m\u001b[39m.\u001b[39mnorm \u001b[39m>\u001b[39m MAX_NORM:\n\u001b[0;32m---> 40\u001b[0m     \u001b[39mraise\u001b[39;00m NormError(\u001b[39mself\u001b[39m\u001b[39m.\u001b[39mnorm, MAX_NORM)\n",
      "\u001b[0;31mNormError\u001b[0m: Norm = 223.60679774997897 but it cannot be greater than 100."
     ]
    }
   ],
   "source": [
    "vector = Vector2D(100, 200)"
   ]
  },
  {
   "attachments": {},
   "cell_type": "markdown",
   "metadata": {},
   "source": [
    "Custom exceptions allow us to handle them in an easier way"
   ]
  },
  {
   "cell_type": "code",
   "execution_count": null,
   "metadata": {},
   "outputs": [
    {
     "name": "stdout",
     "output_type": "stream",
     "text": [
      "Vector = (1.0, 2.0)\n"
     ]
    }
   ],
   "source": [
    "from my_library import NormError\n",
    "\n",
    "x = 100\n",
    "y = 200\n",
    "\n",
    "try:\n",
    "    vector = Vector2D(x, y)\n",
    "    print(f\"Vector = {vector}\")\n",
    "    \n",
    "except NormError:\n",
    "    # If the exception is raised we reduce the size of the vector\n",
    "    x = x / 100\n",
    "    y = y / 100\n",
    "    vector = Vector2D(x, y)\n",
    "    print(f\"Vector = {vector}\")"
   ]
  },
  {
   "cell_type": "code",
   "execution_count": null,
   "metadata": {},
   "outputs": [
    {
     "data": {
      "text/plain": [
       "vector.Vector2D(1.414213562373095, -1.1102230246251565e-16)"
      ]
     },
     "execution_count": 3,
     "metadata": {},
     "output_type": "execute_result"
    }
   ],
   "source": [
    "from my_library import *\n",
    "\n",
    "from numpy import pi as PI\n",
    "\n",
    "R2 = Rotation(PI / 4)\n",
    "R2(Vector2D(1, -1))"
   ]
  },
  {
   "cell_type": "code",
   "execution_count": null,
   "metadata": {},
   "outputs": [
    {
     "data": {
      "text/plain": [
       "vector.Vector2D(1.4142135623730951, 0)"
      ]
     },
     "execution_count": 11,
     "metadata": {},
     "output_type": "execute_result"
    }
   ],
   "source": [
    "from math import sqrt, isclose\n",
    "\n",
    "Vector2D(sqrt(2), 0)"
   ]
  },
  {
   "cell_type": "code",
   "execution_count": null,
   "metadata": {},
   "outputs": [
    {
     "data": {
      "text/plain": [
       "False"
      ]
     },
     "execution_count": 14,
     "metadata": {},
     "output_type": "execute_result"
    }
   ],
   "source": [
    "Vector2D(sqrt(2), 0) == R2(Vector2D(1, -1))"
   ]
  },
  {
   "cell_type": "code",
   "execution_count": null,
   "metadata": {},
   "outputs": [],
   "source": []
  },
  {
   "cell_type": "code",
   "execution_count": null,
   "metadata": {},
   "outputs": [],
   "source": []
  }
 ],
 "metadata": {
  "kernelspec": {
   "display_name": "quantum",
   "language": "python",
   "name": "python3"
  },
  "language_info": {
   "codemirror_mode": {
    "name": "ipython",
    "version": 3
   },
   "file_extension": ".py",
   "mimetype": "text/x-python",
   "name": "python",
   "nbconvert_exporter": "python",
   "pygments_lexer": "ipython3",
   "version": "3.10.4"
  },
  "orig_nbformat": 4
 },
 "nbformat": 4,
 "nbformat_minor": 2
}
