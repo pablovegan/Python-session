{
 "cells": [
  {
   "attachments": {},
   "cell_type": "markdown",
   "metadata": {},
   "source": [
    "# Exception handling tutorial"
   ]
  },
  {
   "attachments": {},
   "cell_type": "markdown",
   "metadata": {},
   "source": [
    "### Imports"
   ]
  },
  {
   "cell_type": "code",
   "execution_count": 4,
   "metadata": {},
   "outputs": [],
   "source": [
    "from sys import path\n",
    "from os.path import abspath\n",
    "\n",
    "# Tell python to search for the files and modules starting from the working directory\n",
    "module_path = abspath('..')\n",
    "if module_path not in path:\n",
    "    path.append(module_path)"
   ]
  },
  {
   "cell_type": "markdown",
   "metadata": {},
   "source": [
    "Note: If we don't want to be telling Python where to search for our library, we can install it (in editable mode) in our conda environment using\n",
    "```console\n",
    "pip install -e .\n",
    "```"
   ]
  },
  {
   "cell_type": "code",
   "execution_count": 8,
   "metadata": {},
   "outputs": [],
   "source": [
    "from mylibrary import Vector"
   ]
  },
  {
   "attachments": {},
   "cell_type": "markdown",
   "metadata": {},
   "source": [
    "## Custom exceptions"
   ]
  },
  {
   "cell_type": "markdown",
   "metadata": {},
   "source": [
    "If we create a vector with a norm larger than `MAX_NORM` our custom `NormError` exception will raise"
   ]
  },
  {
   "cell_type": "code",
   "execution_count": 9,
   "metadata": {},
   "outputs": [
    {
     "ename": "NormError",
     "evalue": "Norm = 223.60679774997897 but it cannot be greater than 100.",
     "output_type": "error",
     "traceback": [
      "\u001b[0;31m---------------------------------------------------------------------------\u001b[0m",
      "\u001b[0;31mNormError\u001b[0m                                 Traceback (most recent call last)",
      "Cell \u001b[0;32mIn[9], line 1\u001b[0m\n\u001b[0;32m----> 1\u001b[0m vector \u001b[39m=\u001b[39m Vector(\u001b[39m100\u001b[39;49m, \u001b[39m200\u001b[39;49m)\n",
      "File \u001b[0;32m~/Documents/Code projects/Python-tips-tools-Benasque/mylibrary/vector/vector.py:60\u001b[0m, in \u001b[0;36mVector.__init__\u001b[0;34m(self, x, y)\u001b[0m\n\u001b[1;32m     57\u001b[0m \u001b[39mself\u001b[39m\u001b[39m.\u001b[39my \u001b[39m=\u001b[39m y\n\u001b[1;32m     59\u001b[0m \u001b[39mif\u001b[39;00m \u001b[39mself\u001b[39m\u001b[39m.\u001b[39mnorm \u001b[39m>\u001b[39m MAX_NORM:\n\u001b[0;32m---> 60\u001b[0m     \u001b[39mraise\u001b[39;00m NormError(\u001b[39mself\u001b[39m\u001b[39m.\u001b[39mnorm)\n",
      "\u001b[0;31mNormError\u001b[0m: Norm = 223.60679774997897 but it cannot be greater than 100."
     ]
    }
   ],
   "source": [
    "vector = Vector(100, 200)"
   ]
  },
  {
   "attachments": {},
   "cell_type": "markdown",
   "metadata": {},
   "source": [
    "## Exception handling"
   ]
  },
  {
   "attachments": {},
   "cell_type": "markdown",
   "metadata": {},
   "source": [
    "One great advantage of creating our own exception classes is that they allow us to handle them in an easier way"
   ]
  },
  {
   "cell_type": "code",
   "execution_count": 15,
   "metadata": {},
   "outputs": [
    {
     "name": "stdout",
     "output_type": "stream",
     "text": [
      "Resized vector = (10, 20)\n",
      "\n",
      "The try-except statement ended!\n"
     ]
    }
   ],
   "source": [
    "from mylibrary import NormError\n",
    "\n",
    "x = 100\n",
    "y = 200\n",
    "\n",
    "try:\n",
    "    vector = Vector(x, y)\n",
    "    print(f\"vector = {vector}\")\n",
    "    \n",
    "except NormError:\n",
    "    # If the exception is raised we reduce the size of the vector\n",
    "    x = x % 30\n",
    "    y = y % 30\n",
    "    vector = Vector(x, y)\n",
    "    print(f\"Resized vector = {vector}\")\n",
    "\n",
    "finally:\n",
    "    print(\"\\nThe try-except statement ended!\")"
   ]
  },
  {
   "cell_type": "code",
   "execution_count": null,
   "metadata": {},
   "outputs": [],
   "source": []
  }
 ],
 "metadata": {
  "kernelspec": {
   "display_name": "quantum",
   "language": "python",
   "name": "python3"
  },
  "language_info": {
   "codemirror_mode": {
    "name": "ipython",
    "version": 3
   },
   "file_extension": ".py",
   "mimetype": "text/x-python",
   "name": "python",
   "nbconvert_exporter": "python",
   "pygments_lexer": "ipython3",
   "version": "3.10.9"
  },
  "orig_nbformat": 4
 },
 "nbformat": 4,
 "nbformat_minor": 2
}
