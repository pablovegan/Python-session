{
 "cells": [
  {
   "attachments": {},
   "cell_type": "markdown",
   "metadata": {},
   "source": [
    "# Exception handling tutorial"
   ]
  },
  {
   "attachments": {},
   "cell_type": "markdown",
   "metadata": {},
   "source": [
    "### Imports"
   ]
  },
  {
   "cell_type": "code",
   "execution_count": null,
   "metadata": {},
   "outputs": [],
   "source": [
    "from sys import path\n",
    "from os.path import abspath\n",
    "\n",
    "# Tell python to search for the files and modules starting from the working directory\n",
    "module_path = abspath('..')\n",
    "if module_path not in path:\n",
    "    path.append(module_path)"
   ]
  },
  {
   "cell_type": "code",
   "execution_count": null,
   "metadata": {},
   "outputs": [],
   "source": [
    "from mylibrary import Vector2D"
   ]
  },
  {
   "attachments": {},
   "cell_type": "markdown",
   "metadata": {},
   "source": [
    "## Custom exceptions"
   ]
  },
  {
   "cell_type": "markdown",
   "metadata": {},
   "source": [
    "If we create a vector with a norm larger than `MAX_NORM` our custom `NormError` exception will raise"
   ]
  },
  {
   "cell_type": "code",
   "execution_count": null,
   "metadata": {},
   "outputs": [
    {
     "ename": "NormError",
     "evalue": "Norm = 223.60679774997897 but it cannot be greater than 100.",
     "output_type": "error",
     "traceback": [
      "\u001b[0;31m---------------------------------------------------------------------------\u001b[0m\n",
      "\u001b[0;31mNormError\u001b[0m                                 Traceback (most recent call last)\n",
      "Cell \u001b[0;32mIn[8], line 1\u001b[0m\n",
      "\u001b[0;32m----> 1\u001b[0m vector \u001b[39m=\u001b[39m Vector2D(\u001b[39m100\u001b[39;49m, \u001b[39m200\u001b[39;49m)\n",
      "\n",
      "File \u001b[0;32m~/Documents/Code projects/Python-tips-tools-Benasque/my_library/vector/vector.py:50\u001b[0m, in \u001b[0;36mVector2D.__init__\u001b[0;34m(self, x, y)\u001b[0m\n",
      "\u001b[1;32m     47\u001b[0m \u001b[39mself\u001b[39m\u001b[39m.\u001b[39my \u001b[39m=\u001b[39m y\n",
      "\u001b[1;32m     49\u001b[0m \u001b[39mif\u001b[39;00m \u001b[39mself\u001b[39m\u001b[39m.\u001b[39mnorm \u001b[39m>\u001b[39m MAX_NORM:\n",
      "\u001b[0;32m---> 50\u001b[0m     \u001b[39mraise\u001b[39;00m NormError(\u001b[39mself\u001b[39m\u001b[39m.\u001b[39mnorm, MAX_NORM)\n",
      "\n",
      "\u001b[0;31mNormError\u001b[0m: Norm = 223.60679774997897 but it cannot be greater than 100."
     ]
    }
   ],
   "source": [
    "vector = Vector2D(100, 200)"
   ]
  },
  {
   "attachments": {},
   "cell_type": "markdown",
   "metadata": {},
   "source": [
    "## Exception handling"
   ]
  },
  {
   "attachments": {},
   "cell_type": "markdown",
   "metadata": {},
   "source": [
    "One great advantage of creating our own exception classes is that they allow us to handle them in an easier way"
   ]
  },
  {
   "cell_type": "code",
   "execution_count": null,
   "metadata": {},
   "outputs": [
    {
     "name": "stdout",
     "output_type": "stream",
     "text": [
      "Vector = (1.0, 2.0)\n"
     ]
    }
   ],
   "source": [
    "from mylibrary import NormError\n",
    "\n",
    "x = 100\n",
    "y = 200\n",
    "\n",
    "try:\n",
    "    vector = Vector2D(x, y)\n",
    "    print(f\"Vector = {vector}\")\n",
    "    \n",
    "except NormError:\n",
    "    # If the exception is raised we reduce the size of the vector\n",
    "    x = x / 100\n",
    "    y = y / 100\n",
    "    vector = Vector2D(x, y)\n",
    "    print(f\"Vector = {vector}\")"
   ]
  }
 ],
 "metadata": {
  "language_info": {
   "name": "python"
  },
  "orig_nbformat": 4
 },
 "nbformat": 4,
 "nbformat_minor": 2
}
