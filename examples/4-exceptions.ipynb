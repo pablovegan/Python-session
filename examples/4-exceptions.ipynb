{
 "cells": [
  {
   "attachments": {},
   "cell_type": "markdown",
   "metadata": {},
   "source": [
    "# Exception handling tutorial"
   ]
  },
  {
   "attachments": {},
   "cell_type": "markdown",
   "metadata": {},
   "source": [
    "### Imports"
   ]
  },
  {
   "cell_type": "code",
   "execution_count": 1,
   "metadata": {},
   "outputs": [],
   "source": [
    "from sys import path\n",
    "from os.path import abspath\n",
    "\n",
    "# Tell python to search for the files and modules starting from the working directory\n",
    "module_path = abspath('..')\n",
    "if module_path not in path:\n",
    "    path.append(module_path)"
   ]
  },
  {
   "attachments": {},
   "cell_type": "markdown",
   "metadata": {},
   "source": [
    "*Note*: If we don't want to be telling Python where to search for our library, we can install it (in editable mode) in our conda environment using\n",
    "```console\n",
    "pip install -e .\n",
    "```"
   ]
  },
  {
   "cell_type": "code",
   "execution_count": 2,
   "metadata": {},
   "outputs": [],
   "source": [
    "from mylibrary import Vector"
   ]
  },
  {
   "attachments": {},
   "cell_type": "markdown",
   "metadata": {},
   "source": [
    "## Custom exceptions"
   ]
  },
  {
   "attachments": {},
   "cell_type": "markdown",
   "metadata": {},
   "source": [
    "Exception errors occur whenever syntactically correct Python code results in an error. In our `Vector` class, we raised an error whenever the norm of the initialized vector was greater than the module constant `MAX_NORM`. This custom error class, `NormError`, was defined as a subclass of the built-in exception class `ValueError`."
   ]
  },
  {
   "cell_type": "code",
   "execution_count": 3,
   "metadata": {},
   "outputs": [
    {
     "ename": "NormError",
     "evalue": "Norm = 223.60679774997897, but it cannot be greater than 100.",
     "output_type": "error",
     "traceback": [
      "\u001b[0;31m---------------------------------------------------------------------------\u001b[0m",
      "\u001b[0;31mNormError\u001b[0m                                 Traceback (most recent call last)",
      "\u001b[1;32m/Users/macvp/Documents/Python Proyectos/Python-tips-tools-Benasque/examples/4-exceptions.ipynb Cell 8\u001b[0m in \u001b[0;36m<cell line: 1>\u001b[0;34m()\u001b[0m\n\u001b[0;32m----> <a href='vscode-notebook-cell:/Users/macvp/Documents/Python%20Proyectos/Python-tips-tools-Benasque/examples/4-exceptions.ipynb#X10sZmlsZQ%3D%3D?line=0'>1</a>\u001b[0m vector \u001b[39m=\u001b[39m Vector(\u001b[39m100\u001b[39;49m, \u001b[39m200\u001b[39;49m)\n",
      "File \u001b[0;32m~/Documents/Python Proyectos/Python-tips-tools-Benasque/mylibrary/vector/vector.py:65\u001b[0m, in \u001b[0;36mVector.__init__\u001b[0;34m(self, x, y)\u001b[0m\n\u001b[1;32m     62\u001b[0m \u001b[39mself\u001b[39m\u001b[39m.\u001b[39my \u001b[39m=\u001b[39m y\n\u001b[1;32m     64\u001b[0m \u001b[39mif\u001b[39;00m \u001b[39mself\u001b[39m\u001b[39m.\u001b[39mnorm \u001b[39m>\u001b[39m MAX_NORM:\n\u001b[0;32m---> 65\u001b[0m     \u001b[39mraise\u001b[39;00m NormError(\u001b[39mself\u001b[39m\u001b[39m.\u001b[39mnorm)\n",
      "\u001b[0;31mNormError\u001b[0m: Norm = 223.60679774997897, but it cannot be greater than 100."
     ]
    }
   ],
   "source": [
    "vector = Vector(100, 200)"
   ]
  },
  {
   "attachments": {},
   "cell_type": "markdown",
   "metadata": {},
   "source": [
    "## Exception handling"
   ]
  },
  {
   "attachments": {},
   "cell_type": "markdown",
   "metadata": {},
   "source": [
    "Custom exceptions come in handy when handling errors. For example, we can create a vector given two components and, in case the norm is too big, handle the `NormError` to create a new \"renormalized\" vector"
   ]
  },
  {
   "cell_type": "code",
   "execution_count": 6,
   "metadata": {},
   "outputs": [
    {
     "name": "stdout",
     "output_type": "stream",
     "text": [
      "Norm is too big, resizing the vector...\n",
      "vector = (10, 20)\n",
      "\n",
      "The try-except statement ended!\n"
     ]
    }
   ],
   "source": [
    "from mylibrary import NormError\n",
    "\n",
    "x = 100\n",
    "y = 200\n",
    "\n",
    "try:\n",
    "    vector = Vector(x, y)\n",
    "    print(f\"vector = {vector}\")\n",
    "    \n",
    "except NormError:\n",
    "    # If the exception is raised we reduce the size of the vector\n",
    "    x = x % 30\n",
    "    y = y % 30\n",
    "    vector = Vector(x, y)\n",
    "    print(\"Norm is too big, resizing the vector...\")\n",
    "    print(f\"vector = {vector}\")\n",
    "\n",
    "finally:\n",
    "    print(\"\\nThe try-except statement ended!\")"
   ]
  }
 ],
 "metadata": {
  "kernelspec": {
   "display_name": "quantum",
   "language": "python",
   "name": "python3"
  },
  "language_info": {
   "codemirror_mode": {
    "name": "ipython",
    "version": 3
   },
   "file_extension": ".py",
   "mimetype": "text/x-python",
   "name": "python",
   "nbconvert_exporter": "python",
   "pygments_lexer": "ipython3",
   "version": "3.10.4"
  },
  "orig_nbformat": 4
 },
 "nbformat": 4,
 "nbformat_minor": 2
}
