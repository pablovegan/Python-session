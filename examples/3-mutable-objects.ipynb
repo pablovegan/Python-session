{
 "cells": [
  {
   "attachments": {},
   "cell_type": "markdown",
   "metadata": {},
   "source": [
    "# Mutable and immutable types"
   ]
  },
  {
   "attachments": {},
   "cell_type": "markdown",
   "metadata": {},
   "source": [
    "### Imports"
   ]
  },
  {
   "cell_type": "code",
   "execution_count": 1,
   "metadata": {},
   "outputs": [],
   "source": [
    "import numpy as np"
   ]
  },
  {
   "attachments": {},
   "cell_type": "markdown",
   "metadata": {},
   "source": [
    "### The `id()` function"
   ]
  },
  {
   "attachments": {},
   "cell_type": "markdown",
   "metadata": {},
   "source": [
    "A Python **variable** is a symbolic name that is a reference or pointer to an object. To analyze whether two variables refer to the same object, we can use the `id()` function, which returns a unique identification number of the object stored in memory. This will be helpful to see which objects can be changed in-place —*i.e.* mutable objects— and which are not."
   ]
  },
  {
   "cell_type": "code",
   "execution_count": 2,
   "metadata": {},
   "outputs": [
    {
     "name": "stdout",
     "output_type": "stream",
     "text": [
      "The id of a is 4448174320\n",
      "The id of a in hexadecimal format is 0x10921c0f0\n"
     ]
    }
   ],
   "source": [
    "a = 1\n",
    "print(f'The id of a is {id(a)}')\n",
    "print(f'The id of a in hexadecimal format is {hex(id(a))}')"
   ]
  },
  {
   "attachments": {},
   "cell_type": "markdown",
   "metadata": {},
   "source": [
    "## Immutable objects"
   ]
  },
  {
   "attachments": {},
   "cell_type": "markdown",
   "metadata": {},
   "source": [
    "An immutable object is the one that cannot be changed after it is created; even when you think you are changing the object, you are really making new objects from old ones. Immutable objects include numbers, strings, and tuples."
   ]
  },
  {
   "attachments": {},
   "cell_type": "markdown",
   "metadata": {},
   "source": [
    "For example, if we define an integer and make an in-place sum, the object changes and so does the id"
   ]
  },
  {
   "cell_type": "code",
   "execution_count": 3,
   "metadata": {},
   "outputs": [
    {
     "name": "stdout",
     "output_type": "stream",
     "text": [
      "The id of a is 0x10921c0f0\n",
      "The id of a is 0x10921c110\n"
     ]
    }
   ],
   "source": [
    "a: int = 1\n",
    "print(f'The id of a is {hex(id(a))}')\n",
    "\n",
    "a += 1\n",
    "print(f'The id of a is {hex(id(a))}')"
   ]
  },
  {
   "attachments": {},
   "cell_type": "markdown",
   "metadata": {},
   "source": [
    "We can also see what happens if we assign the same object to two different variables and change one of them. At the beginning both variables point to the same address"
   ]
  },
  {
   "cell_type": "code",
   "execution_count": 4,
   "metadata": {},
   "outputs": [
    {
     "name": "stdout",
     "output_type": "stream",
     "text": [
      "The id of a is 0x10921c0f0\n",
      "The id of b is 0x10921c0f0\n"
     ]
    }
   ],
   "source": [
    "a: int = 1\n",
    "b = a\n",
    "print(f'The id of a is {hex(id(a))}')\n",
    "print(f'The id of b is {hex(id(b))}')"
   ]
  },
  {
   "attachments": {},
   "cell_type": "markdown",
   "metadata": {},
   "source": [
    "but, as soon as we change `b`, a new object is created and now `b` points to a different object"
   ]
  },
  {
   "cell_type": "code",
   "execution_count": 5,
   "metadata": {},
   "outputs": [
    {
     "name": "stdout",
     "output_type": "stream",
     "text": [
      "a = 1\n",
      "b = 2\n",
      "\n",
      "The id of a is 0x10921c0f0\n",
      "The id of b is 0x10921c110\n"
     ]
    }
   ],
   "source": [
    "b += 1\n",
    "print(f'a = {a}')\n",
    "print(f'b = {b}')\n",
    "print(f'\\nThe id of a is {hex(id(a))}')\n",
    "print(f'The id of b is {hex(id(b))}')"
   ]
  },
  {
   "cell_type": "markdown",
   "metadata": {},
   "source": [
    "## Mutable objects"
   ]
  },
  {
   "attachments": {},
   "cell_type": "markdown",
   "metadata": {},
   "source": [
    "Almost everything else is mutable, including lists, dicts, and user-defined objects. Mutable means that the value has methods that can change the value in-place."
   ]
  },
  {
   "attachments": {},
   "cell_type": "markdown",
   "metadata": {},
   "source": [
    "Lists are the paradigmatic example of mutable objects. We can repeat the steps we did in the integer example to see the differences. We begin with an in-inplace sum, and this time the object's id doesn't change"
   ]
  },
  {
   "cell_type": "code",
   "execution_count": 6,
   "metadata": {},
   "outputs": [
    {
     "name": "stdout",
     "output_type": "stream",
     "text": [
      "The id of list_a is 0x10dd97c40\n",
      "The id of list_a is 0x10dd97c40\n"
     ]
    }
   ],
   "source": [
    "list_a: list[int] = [1]\n",
    "print(f'The id of list_a is {hex(id(list_a))}')\n",
    "\n",
    "list_a += [2]  # equivalent to list_a.append(2)\n",
    "print(f'The id of list_a is {hex(id(list_a))}')"
   ]
  },
  {
   "attachments": {},
   "cell_type": "markdown",
   "metadata": {},
   "source": [
    "*Note*: Beware that if we didn't do an in-place sum but an ordinary sum, a new object would be created"
   ]
  },
  {
   "cell_type": "code",
   "execution_count": 7,
   "metadata": {},
   "outputs": [
    {
     "name": "stdout",
     "output_type": "stream",
     "text": [
      "The id of list_a is 0x10caa8d80\n",
      "The id of list_a is 0x10dd97c40\n"
     ]
    }
   ],
   "source": [
    "list_a = [1]\n",
    "print(f'The id of list_a is {hex(id(list_a))}')\n",
    "\n",
    "list_a = list_a + [2]\n",
    "print(f'The id of list_a is {hex(id(list_a))}')"
   ]
  },
  {
   "attachments": {},
   "cell_type": "markdown",
   "metadata": {},
   "source": [
    "Finally, we show that if two variables point to the same mutable object, any change in the object affects both variables (compare this with the `int` example)"
   ]
  },
  {
   "cell_type": "code",
   "execution_count": 8,
   "metadata": {},
   "outputs": [
    {
     "name": "stdout",
     "output_type": "stream",
     "text": [
      "list_a = [1, 2]\n",
      "list_b = [1, 2]\n"
     ]
    }
   ],
   "source": [
    "list_a = [1]\n",
    "list_b = list_a\n",
    "list_b.append(2) \n",
    "\n",
    "print(f'list_a = {list_a}')\n",
    "print(f'list_b = {list_b}')"
   ]
  },
  {
   "attachments": {},
   "cell_type": "markdown",
   "metadata": {},
   "source": [
    "## Functions, references and mutable objects"
   ]
  },
  {
   "attachments": {},
   "cell_type": "markdown",
   "metadata": {},
   "source": [
    "As a final example (and warning), an essential behavior in Python is that functions can modify global mutable objects even when, apparently, they are just local variables inside the function (local variables are destroyed when the function ends)."
   ]
  },
  {
   "cell_type": "code",
   "execution_count": 9,
   "metadata": {},
   "outputs": [],
   "source": [
    "def list_append(local_list: list, value) -> None:\n",
    "    local_list.append(value)  # list modified"
   ]
  },
  {
   "cell_type": "code",
   "execution_count": 10,
   "metadata": {},
   "outputs": [
    {
     "data": {
      "text/plain": [
       "[1, 2]"
      ]
     },
     "execution_count": 10,
     "metadata": {},
     "output_type": "execute_result"
    }
   ],
   "source": [
    "global_list = [1]\n",
    "list_append(global_list, value=2)\n",
    "global_list"
   ]
  },
  {
   "attachments": {},
   "cell_type": "markdown",
   "metadata": {},
   "source": [
    "This happens because the (local) variable `local_list` gets assigned the same object as the (global) variable `global_list`. Since both point to the same mutable object, changes in `local_list` will change the object itself, thus changing the object that `global_list` is referencing."
   ]
  },
  {
   "attachments": {},
   "cell_type": "markdown",
   "metadata": {},
   "source": [
    "But, what happens if `local_list` creates a new object? Then `local_list` is going to point to a new (local) object and the changes will not affect `global_list`."
   ]
  },
  {
   "cell_type": "code",
   "execution_count": 11,
   "metadata": {},
   "outputs": [],
   "source": [
    "def list_append(local_list: list, value) -> None:\n",
    "    local_list = local_list + [value]  # new list created"
   ]
  },
  {
   "cell_type": "code",
   "execution_count": 12,
   "metadata": {},
   "outputs": [
    {
     "data": {
      "text/plain": [
       "[1]"
      ]
     },
     "execution_count": 12,
     "metadata": {},
     "output_type": "execute_result"
    }
   ],
   "source": [
    "global_list = [1]\n",
    "list_append(global_list, value=2)\n",
    "global_list"
   ]
  }
 ],
 "metadata": {
  "kernelspec": {
   "display_name": "QC_env",
   "language": "python",
   "name": "python3"
  },
  "language_info": {
   "codemirror_mode": {
    "name": "ipython",
    "version": 3
   },
   "file_extension": ".py",
   "mimetype": "text/x-python",
   "name": "python",
   "nbconvert_exporter": "python",
   "pygments_lexer": "ipython3",
   "version": "3.10.9"
  },
  "orig_nbformat": 4
 },
 "nbformat": 4,
 "nbformat_minor": 2
}
